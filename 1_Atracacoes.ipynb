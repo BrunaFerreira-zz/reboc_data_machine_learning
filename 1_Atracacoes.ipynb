{
 "cells": [
  {
   "cell_type": "markdown",
   "metadata": {},
   "source": [
    "## Base dados : Atracações\n",
    "\n",
    "- Atracações de Carga : http://dados.gov.br/dataset/movimentacao-carga\n",
    "- Periodo da base : Janeiro de 2020 a Março de 2020 <br><br>\n",
    "Acessado em 5/7/2020, atualizados em 4/6/2020\n",
    "\n"
   ]
  },
  {
   "cell_type": "code",
   "execution_count": 13,
   "metadata": {},
   "outputs": [],
   "source": [
    "import pandas as pd\n",
    "%matplotlib inline"
   ]
  },
  {
   "cell_type": "code",
   "execution_count": 4,
   "metadata": {},
   "outputs": [],
   "source": [
    "atracacao = pd.read_csv('data/2020Atracacao.txt', header = 0, sep= ';')"
   ]
  },
  {
   "cell_type": "code",
   "execution_count": 5,
   "metadata": {
    "scrolled": true
   },
   "outputs": [
    {
     "data": {
      "text/html": [
       "<div>\n",
       "<style scoped>\n",
       "    .dataframe tbody tr th:only-of-type {\n",
       "        vertical-align: middle;\n",
       "    }\n",
       "\n",
       "    .dataframe tbody tr th {\n",
       "        vertical-align: top;\n",
       "    }\n",
       "\n",
       "    .dataframe thead th {\n",
       "        text-align: right;\n",
       "    }\n",
       "</style>\n",
       "<table border=\"1\" class=\"dataframe\">\n",
       "  <thead>\n",
       "    <tr style=\"text-align: right;\">\n",
       "      <th></th>\n",
       "      <th>IDAtracacao</th>\n",
       "      <th>CDTUP</th>\n",
       "      <th>IDBerco</th>\n",
       "      <th>Berço</th>\n",
       "      <th>Porto Atracação</th>\n",
       "      <th>Apelido Instalação Portuária</th>\n",
       "      <th>Complexo Portuário</th>\n",
       "      <th>Tipo da Autoridade Portuária</th>\n",
       "      <th>Data Atracação</th>\n",
       "      <th>Data Chegada</th>\n",
       "      <th>...</th>\n",
       "      <th>Tipo de Navegação da Atracação</th>\n",
       "      <th>Nacionalidade do Armador</th>\n",
       "      <th>FlagMCOperacaoAtracacao</th>\n",
       "      <th>Terminal</th>\n",
       "      <th>Município</th>\n",
       "      <th>UF</th>\n",
       "      <th>SGUF</th>\n",
       "      <th>Região Geográfica</th>\n",
       "      <th>Nº da Capitania</th>\n",
       "      <th>Nº do IMO</th>\n",
       "    </tr>\n",
       "  </thead>\n",
       "  <tbody>\n",
       "    <tr>\n",
       "      <td>0</td>\n",
       "      <td>1068728</td>\n",
       "      <td>BRIBB</td>\n",
       "      <td>IBB0002</td>\n",
       "      <td>Berço 2</td>\n",
       "      <td>Imbituba</td>\n",
       "      <td>NaN</td>\n",
       "      <td>Imbituba</td>\n",
       "      <td>Porto Público</td>\n",
       "      <td>16/03/2020 09:15:00</td>\n",
       "      <td>16/03/2020 09:00:00</td>\n",
       "      <td>...</td>\n",
       "      <td>Apoio Marítimo</td>\n",
       "      <td>0</td>\n",
       "      <td>1</td>\n",
       "      <td>Cais Público</td>\n",
       "      <td>Imbituba</td>\n",
       "      <td>Santa Catarina</td>\n",
       "      <td>SC</td>\n",
       "      <td>Sul</td>\n",
       "      <td>NaN</td>\n",
       "      <td>NaN</td>\n",
       "    </tr>\n",
       "    <tr>\n",
       "      <td>1</td>\n",
       "      <td>1057154</td>\n",
       "      <td>BRREC</td>\n",
       "      <td>RECA-05</td>\n",
       "      <td>RECA-05</td>\n",
       "      <td>Recife</td>\n",
       "      <td>Arrecife dos Navios</td>\n",
       "      <td>Suape - Recife</td>\n",
       "      <td>Porto Público</td>\n",
       "      <td>31/12/2019 12:00:00</td>\n",
       "      <td>29/12/2019 09:00:00</td>\n",
       "      <td>...</td>\n",
       "      <td>Cabotagem</td>\n",
       "      <td>0</td>\n",
       "      <td>1</td>\n",
       "      <td>Armazém 05</td>\n",
       "      <td>Recife</td>\n",
       "      <td>Pernambuco</td>\n",
       "      <td>PE</td>\n",
       "      <td>Nordeste</td>\n",
       "      <td>NaN</td>\n",
       "      <td>NaN</td>\n",
       "    </tr>\n",
       "  </tbody>\n",
       "</table>\n",
       "<p>2 rows × 26 columns</p>\n",
       "</div>"
      ],
      "text/plain": [
       "   IDAtracacao  CDTUP  IDBerco    Berço Porto Atracação  \\\n",
       "0      1068728  BRIBB  IBB0002  Berço 2        Imbituba   \n",
       "1      1057154  BRREC  RECA-05  RECA-05          Recife   \n",
       "\n",
       "  Apelido Instalação Portuária Complexo Portuário  \\\n",
       "0                          NaN           Imbituba   \n",
       "1          Arrecife dos Navios     Suape - Recife   \n",
       "\n",
       "  Tipo da Autoridade Portuária       Data Atracação         Data Chegada  ...  \\\n",
       "0                Porto Público  16/03/2020 09:15:00  16/03/2020 09:00:00  ...   \n",
       "1                Porto Público  31/12/2019 12:00:00  29/12/2019 09:00:00  ...   \n",
       "\n",
       "  Tipo de Navegação da Atracação Nacionalidade do Armador  \\\n",
       "0                 Apoio Marítimo                        0   \n",
       "1                      Cabotagem                        0   \n",
       "\n",
       "  FlagMCOperacaoAtracacao      Terminal Município              UF SGUF  \\\n",
       "0                       1  Cais Público  Imbituba  Santa Catarina   SC   \n",
       "1                       1    Armazém 05    Recife      Pernambuco   PE   \n",
       "\n",
       "   Região Geográfica  Nº da Capitania Nº do IMO  \n",
       "0                Sul              NaN       NaN  \n",
       "1           Nordeste              NaN       NaN  \n",
       "\n",
       "[2 rows x 26 columns]"
      ]
     },
     "execution_count": 5,
     "metadata": {},
     "output_type": "execute_result"
    }
   ],
   "source": [
    "atracacao.head(2)"
   ]
  },
  {
   "cell_type": "markdown",
   "metadata": {},
   "source": [
    "### 0. Portos no Brasil"
   ]
  },
  {
   "cell_type": "code",
   "execution_count": 9,
   "metadata": {},
   "outputs": [],
   "source": [
    "portos = atracacao['Porto Atracação'].value_counts()"
   ]
  },
  {
   "cell_type": "markdown",
   "metadata": {},
   "source": [
    "#### 0.1 Quantidade de portos : 173"
   ]
  },
  {
   "cell_type": "code",
   "execution_count": 10,
   "metadata": {},
   "outputs": [
    {
     "data": {
      "text/plain": [
       "(173,)"
      ]
     },
     "execution_count": 10,
     "metadata": {},
     "output_type": "execute_result"
    }
   ],
   "source": [
    "portos.shape"
   ]
  },
  {
   "cell_type": "markdown",
   "metadata": {},
   "source": [
    "#### 0.1 Distribuição dos portos por quantidade de atracação"
   ]
  },
  {
   "cell_type": "code",
   "execution_count": 15,
   "metadata": {},
   "outputs": [
    {
     "data": {
      "text/plain": [
       "<matplotlib.axes._subplots.AxesSubplot at 0x15466071888>"
      ]
     },
     "execution_count": 15,
     "metadata": {},
     "output_type": "execute_result"
    },
    {
     "data": {
      "image/png": "[encoded data removed]",
      "text/plain": [
       "<Figure size 432x288 with 1 Axes>"
      ]
     },
     "metadata": {
      "needs_background": "light"
     },
     "output_type": "display_data"
    }
   ],
   "source": [
    "portos.hist(grid = False)"
   ]
  },
  {
   "cell_type": "markdown",
   "metadata": {},
   "source": [
    "#### 0.1 Portos com mais atracações"
   ]
  },
  {
   "cell_type": "code",
   "execution_count": 22,
   "metadata": {},
   "outputs": [
    {
     "data": {
      "text/html": [
       "<div>\n",
       "<style scoped>\n",
       "    .dataframe tbody tr th:only-of-type {\n",
       "        vertical-align: middle;\n",
       "    }\n",
       "\n",
       "    .dataframe tbody tr th {\n",
       "        vertical-align: top;\n",
       "    }\n",
       "\n",
       "    .dataframe thead th {\n",
       "        text-align: right;\n",
       "    }\n",
       "</style>\n",
       "<table border=\"1\" class=\"dataframe\">\n",
       "  <thead>\n",
       "    <tr style=\"text-align: right;\">\n",
       "      <th></th>\n",
       "      <th>Porto</th>\n",
       "      <th>Quantidade de Atracações</th>\n",
       "    </tr>\n",
       "  </thead>\n",
       "  <tbody>\n",
       "    <tr>\n",
       "      <td>0</td>\n",
       "      <td>Belém</td>\n",
       "      <td>1385</td>\n",
       "    </tr>\n",
       "    <tr>\n",
       "      <td>1</td>\n",
       "      <td>Santarém</td>\n",
       "      <td>1114</td>\n",
       "    </tr>\n",
       "    <tr>\n",
       "      <td>2</td>\n",
       "      <td>Santos</td>\n",
       "      <td>1041</td>\n",
       "    </tr>\n",
       "    <tr>\n",
       "      <td>3</td>\n",
       "      <td>Rio Grande</td>\n",
       "      <td>508</td>\n",
       "    </tr>\n",
       "    <tr>\n",
       "      <td>4</td>\n",
       "      <td>Paranaguá</td>\n",
       "      <td>474</td>\n",
       "    </tr>\n",
       "    <tr>\n",
       "      <td>5</td>\n",
       "      <td>Porto Velho</td>\n",
       "      <td>434</td>\n",
       "    </tr>\n",
       "    <tr>\n",
       "      <td>6</td>\n",
       "      <td>Terminal de Expedição de Grãos Portochuelo</td>\n",
       "      <td>416</td>\n",
       "    </tr>\n",
       "    <tr>\n",
       "      <td>7</td>\n",
       "      <td>Suape</td>\n",
       "      <td>388</td>\n",
       "    </tr>\n",
       "    <tr>\n",
       "      <td>8</td>\n",
       "      <td>Terminais Fluviais do Brasil</td>\n",
       "      <td>346</td>\n",
       "    </tr>\n",
       "    <tr>\n",
       "      <td>9</td>\n",
       "      <td>Areia Branca</td>\n",
       "      <td>335</td>\n",
       "    </tr>\n",
       "  </tbody>\n",
       "</table>\n",
       "</div>"
      ],
      "text/plain": [
       "                                        Porto  Quantidade de Atracações\n",
       "0                                       Belém                      1385\n",
       "1                                    Santarém                      1114\n",
       "2                                      Santos                      1041\n",
       "3                                  Rio Grande                       508\n",
       "4                                   Paranaguá                       474\n",
       "5                                 Porto Velho                       434\n",
       "6  Terminal de Expedição de Grãos Portochuelo                       416\n",
       "7                                       Suape                       388\n",
       "8                Terminais Fluviais do Brasil                       346\n",
       "9                                Areia Branca                       335"
      ]
     },
     "execution_count": 22,
     "metadata": {},
     "output_type": "execute_result"
    }
   ],
   "source": [
    "base = pd.DataFrame(portos.head(10).reset_index())\n",
    "base.columns = ['Porto','Quantidade de Atracações']\n",
    "base"
   ]
  },
  {
   "cell_type": "markdown",
   "metadata": {},
   "source": [
    "### 1. Tipo de Operação"
   ]
  },
  {
   "cell_type": "code",
   "execution_count": 30,
   "metadata": {},
   "outputs": [
    {
     "data": {
      "text/html": [
       "<div>\n",
       "<style scoped>\n",
       "    .dataframe tbody tr th:only-of-type {\n",
       "        vertical-align: middle;\n",
       "    }\n",
       "\n",
       "    .dataframe tbody tr th {\n",
       "        vertical-align: top;\n",
       "    }\n",
       "\n",
       "    .dataframe thead th {\n",
       "        text-align: right;\n",
       "    }\n",
       "</style>\n",
       "<table border=\"1\" class=\"dataframe\">\n",
       "  <thead>\n",
       "    <tr style=\"text-align: right;\">\n",
       "      <th></th>\n",
       "      <th>Tipo de Operação</th>\n",
       "      <th>Quantidade de Atracações</th>\n",
       "    </tr>\n",
       "  </thead>\n",
       "  <tbody>\n",
       "    <tr>\n",
       "      <td>0</td>\n",
       "      <td>Movimentação da Carga</td>\n",
       "      <td>13291</td>\n",
       "    </tr>\n",
       "    <tr>\n",
       "      <td>1</td>\n",
       "      <td>Apoio</td>\n",
       "      <td>2056</td>\n",
       "    </tr>\n",
       "    <tr>\n",
       "      <td>2</td>\n",
       "      <td>Passageiro</td>\n",
       "      <td>1317</td>\n",
       "    </tr>\n",
       "    <tr>\n",
       "      <td>3</td>\n",
       "      <td>Abastecimento</td>\n",
       "      <td>232</td>\n",
       "    </tr>\n",
       "    <tr>\n",
       "      <td>4</td>\n",
       "      <td>Reparo/Manutenção</td>\n",
       "      <td>166</td>\n",
       "    </tr>\n",
       "    <tr>\n",
       "      <td>5</td>\n",
       "      <td>Misto</td>\n",
       "      <td>104</td>\n",
       "    </tr>\n",
       "    <tr>\n",
       "      <td>6</td>\n",
       "      <td>Marinha</td>\n",
       "      <td>51</td>\n",
       "    </tr>\n",
       "  </tbody>\n",
       "</table>\n",
       "</div>"
      ],
      "text/plain": [
       "        Tipo de Operação  Quantidade de Atracações\n",
       "0  Movimentação da Carga                     13291\n",
       "1                  Apoio                      2056\n",
       "2             Passageiro                      1317\n",
       "3          Abastecimento                       232\n",
       "4      Reparo/Manutenção                       166\n",
       "5                  Misto                       104\n",
       "6                Marinha                        51"
      ]
     },
     "execution_count": 30,
     "metadata": {},
     "output_type": "execute_result"
    }
   ],
   "source": [
    "base = atracacao['Tipo de Operação'].value_counts().reset_index()\n",
    "base.columns = ['Tipo de Operação','Quantidade de Atracações']\n",
    "base"
   ]
  },
  {
   "cell_type": "markdown",
   "metadata": {},
   "source": [
    "### 2. Tipo de Navegação da Atracação"
   ]
  },
  {
   "cell_type": "code",
   "execution_count": 31,
   "metadata": {},
   "outputs": [
    {
     "data": {
      "text/html": [
       "<div>\n",
       "<style scoped>\n",
       "    .dataframe tbody tr th:only-of-type {\n",
       "        vertical-align: middle;\n",
       "    }\n",
       "\n",
       "    .dataframe tbody tr th {\n",
       "        vertical-align: top;\n",
       "    }\n",
       "\n",
       "    .dataframe thead th {\n",
       "        text-align: right;\n",
       "    }\n",
       "</style>\n",
       "<table border=\"1\" class=\"dataframe\">\n",
       "  <thead>\n",
       "    <tr style=\"text-align: right;\">\n",
       "      <th></th>\n",
       "      <th>Tipo de Navegação da Atracação</th>\n",
       "      <th>Quantidade de Atracações</th>\n",
       "    </tr>\n",
       "  </thead>\n",
       "  <tbody>\n",
       "    <tr>\n",
       "      <td>0</td>\n",
       "      <td>Interior</td>\n",
       "      <td>8345</td>\n",
       "    </tr>\n",
       "    <tr>\n",
       "      <td>1</td>\n",
       "      <td>Longo Curso</td>\n",
       "      <td>4745</td>\n",
       "    </tr>\n",
       "    <tr>\n",
       "      <td>2</td>\n",
       "      <td>Cabotagem</td>\n",
       "      <td>2440</td>\n",
       "    </tr>\n",
       "    <tr>\n",
       "      <td>3</td>\n",
       "      <td>Apoio Portuário</td>\n",
       "      <td>1075</td>\n",
       "    </tr>\n",
       "    <tr>\n",
       "      <td>4</td>\n",
       "      <td>Apoio Marítimo</td>\n",
       "      <td>612</td>\n",
       "    </tr>\n",
       "  </tbody>\n",
       "</table>\n",
       "</div>"
      ],
      "text/plain": [
       "  Tipo de Navegação da Atracação  Quantidade de Atracações\n",
       "0                       Interior                      8345\n",
       "1                    Longo Curso                      4745\n",
       "2                      Cabotagem                      2440\n",
       "3                Apoio Portuário                      1075\n",
       "4                 Apoio Marítimo                       612"
      ]
     },
     "execution_count": 31,
     "metadata": {},
     "output_type": "execute_result"
    }
   ],
   "source": [
    "base = atracacao['Tipo de Navegação da Atracação'].value_counts().reset_index()\n",
    "base.columns = ['Tipo de Navegação da Atracação','Quantidade de Atracações']\n",
    "base"
   ]
  },
  {
   "cell_type": "markdown",
   "metadata": {},
   "source": [
    "### 3. Tipo de Navegação da Atracação"
   ]
  },
  {
   "cell_type": "code",
   "execution_count": 32,
   "metadata": {},
   "outputs": [
    {
     "data": {
      "text/html": [
       "<div>\n",
       "<style scoped>\n",
       "    .dataframe tbody tr th:only-of-type {\n",
       "        vertical-align: middle;\n",
       "    }\n",
       "\n",
       "    .dataframe tbody tr th {\n",
       "        vertical-align: top;\n",
       "    }\n",
       "\n",
       "    .dataframe thead th {\n",
       "        text-align: right;\n",
       "    }\n",
       "</style>\n",
       "<table border=\"1\" class=\"dataframe\">\n",
       "  <thead>\n",
       "    <tr style=\"text-align: right;\">\n",
       "      <th></th>\n",
       "      <th>Nacionalidade do Armador</th>\n",
       "      <th>Quantidade de Atracações</th>\n",
       "    </tr>\n",
       "  </thead>\n",
       "  <tbody>\n",
       "    <tr>\n",
       "      <td>0</td>\n",
       "      <td>1</td>\n",
       "      <td>11799</td>\n",
       "    </tr>\n",
       "    <tr>\n",
       "      <td>1</td>\n",
       "      <td>2</td>\n",
       "      <td>5372</td>\n",
       "    </tr>\n",
       "    <tr>\n",
       "      <td>2</td>\n",
       "      <td>0</td>\n",
       "      <td>46</td>\n",
       "    </tr>\n",
       "  </tbody>\n",
       "</table>\n",
       "</div>"
      ],
      "text/plain": [
       "   Nacionalidade do Armador  Quantidade de Atracações\n",
       "0                         1                     11799\n",
       "1                         2                      5372\n",
       "2                         0                        46"
      ]
     },
     "execution_count": 32,
     "metadata": {},
     "output_type": "execute_result"
    }
   ],
   "source": [
    "base = atracacao['Nacionalidade do Armador'].value_counts().reset_index()\n",
    "base.columns = ['Nacionalidade do Armador','Quantidade de Atracações']\n",
    "base"
   ]
  },
  {
   "cell_type": "markdown",
   "metadata": {},
   "source": [
    "### 4. Terminal"
   ]
  },
  {
   "cell_type": "code",
   "execution_count": 35,
   "metadata": {},
   "outputs": [
    {
     "data": {
      "text/plain": [
       "array([[<matplotlib.axes._subplots.AxesSubplot object at 0x00000154663AF8C8>]],\n",
       "      dtype=object)"
      ]
     },
     "execution_count": 35,
     "metadata": {},
     "output_type": "execute_result"
    },
    {
     "data": {
      "image/png": "[encoded data removed]",
      "text/plain": [
       "<Figure size 432x288 with 1 Axes>"
      ]
     },
     "metadata": {
      "needs_background": "light"
     },
     "output_type": "display_data"
    }
   ],
   "source": [
    "base = atracacao['Terminal'].value_counts().reset_index()\n",
    "base.columns = ['Terminal','Quantidade de Atracações']\n",
    "base.hist(grid = False)"
   ]
  },
  {
   "cell_type": "markdown",
   "metadata": {},
   "source": [
    "### 5. Região Geográfica"
   ]
  },
  {
   "cell_type": "code",
   "execution_count": 43,
   "metadata": {},
   "outputs": [
    {
     "data": {
      "text/plain": [
       "<matplotlib.axes._subplots.AxesSubplot at 0x15465ad1448>"
      ]
     },
     "execution_count": 43,
     "metadata": {},
     "output_type": "execute_result"
    },
    {
     "data": {
      "image/png": "[encoded data removed]",
      "text/plain": [
       "<Figure size 432x288 with 1 Axes>"
      ]
     },
     "metadata": {
      "needs_background": "light"
     },
     "output_type": "display_data"
    }
   ],
   "source": [
    "base = atracacao['Região Geográfica'].value_counts().reset_index()\n",
    "base.columns = ['Região Geográfica','Quantidade de Atracações']\n",
    "base[['Região Geográfica','Quantidade de Atracações']].plot.bar(x = 'Região Geográfica',y='Quantidade de Atracações')"
   ]
  },
  {
   "cell_type": "code",
   "execution_count": 44,
   "metadata": {},
   "outputs": [
    {
     "data": {
      "text/html": [
       "<div>\n",
       "<style scoped>\n",
       "    .dataframe tbody tr th:only-of-type {\n",
       "        vertical-align: middle;\n",
       "    }\n",
       "\n",
       "    .dataframe tbody tr th {\n",
       "        vertical-align: top;\n",
       "    }\n",
       "\n",
       "    .dataframe thead th {\n",
       "        text-align: right;\n",
       "    }\n",
       "</style>\n",
       "<table border=\"1\" class=\"dataframe\">\n",
       "  <thead>\n",
       "    <tr style=\"text-align: right;\">\n",
       "      <th></th>\n",
       "      <th>Região Geográfica</th>\n",
       "      <th>Quantidade de Atracações</th>\n",
       "    </tr>\n",
       "  </thead>\n",
       "  <tbody>\n",
       "    <tr>\n",
       "      <td>0</td>\n",
       "      <td>Norte</td>\n",
       "      <td>7159</td>\n",
       "    </tr>\n",
       "    <tr>\n",
       "      <td>1</td>\n",
       "      <td>Sudeste</td>\n",
       "      <td>4183</td>\n",
       "    </tr>\n",
       "    <tr>\n",
       "      <td>2</td>\n",
       "      <td>Sul</td>\n",
       "      <td>2739</td>\n",
       "    </tr>\n",
       "    <tr>\n",
       "      <td>3</td>\n",
       "      <td>Nordeste</td>\n",
       "      <td>2499</td>\n",
       "    </tr>\n",
       "    <tr>\n",
       "      <td>4</td>\n",
       "      <td>Centro-Oeste</td>\n",
       "      <td>637</td>\n",
       "    </tr>\n",
       "  </tbody>\n",
       "</table>\n",
       "</div>"
      ],
      "text/plain": [
       "  Região Geográfica  Quantidade de Atracações\n",
       "0             Norte                      7159\n",
       "1           Sudeste                      4183\n",
       "2               Sul                      2739\n",
       "3          Nordeste                      2499\n",
       "4      Centro-Oeste                       637"
      ]
     },
     "execution_count": 44,
     "metadata": {},
     "output_type": "execute_result"
    }
   ],
   "source": [
    "base"
   ]
  },
  {
   "cell_type": "markdown",
   "metadata": {},
   "source": [
    "### 6. Número da Capitania"
   ]
  },
  {
   "cell_type": "code",
   "execution_count": 48,
   "metadata": {},
   "outputs": [
    {
     "data": {
      "text/plain": [
       "array([[<matplotlib.axes._subplots.AxesSubplot object at 0x000001546767AD48>]],\n",
       "      dtype=object)"
      ]
     },
     "execution_count": 48,
     "metadata": {},
     "output_type": "execute_result"
    },
    {
     "data": {
      "image/png": "[encoded data removed]",
      "text/plain": [
       "<Figure size 432x288 with 1 Axes>"
      ]
     },
     "metadata": {
      "needs_background": "light"
     },
     "output_type": "display_data"
    }
   ],
   "source": [
    "base = atracacao['Nº da Capitania'].value_counts().reset_index()\n",
    "base.columns = ['Nº da Capitania','Quantidade de Atracações']\n",
    "base.hist(grid = False)"
   ]
  },
  {
   "cell_type": "markdown",
   "metadata": {},
   "source": [
    "### 8. Renomeando e filtrando Colunas"
   ]
  },
  {
   "cell_type": "code",
   "execution_count": 66,
   "metadata": {},
   "outputs": [],
   "source": [
    "## Filtro de colunas a serem utilizadas\n",
    "filtro_col  = ['IDAtracacao', 'CDTUP', 'IDBerco', 'Porto Atracação','Tipo da Autoridade Portuária', \n",
    "               'Data Atracação', 'Data Chegada','Data Desatracação', 'Data Início Operação', 'Data Término Operação',\n",
    "               'Ano', 'Mes', 'Tipo de Operação', 'Tipo de Navegação da Atracação',\n",
    "               'Nacionalidade do Armador', 'Terminal','Município',\n",
    "               'UF', 'SGUF', 'Região Geográfica', 'Nº da Capitania','Nº do IMO']"
   ]
  },
  {
   "cell_type": "code",
   "execution_count": 67,
   "metadata": {},
   "outputs": [],
   "source": [
    "atracacao_filtro = atracacao[filtro_col]"
   ]
  },
  {
   "cell_type": "code",
   "execution_count": 68,
   "metadata": {},
   "outputs": [],
   "source": [
    "nome_col = ['id_aAtracacao', 'CDTUP', 'id_berço', 'porto','autoridade_portuaria', \n",
    "            'dt_atracacao', 'dt_chegada','dt_desatracacao', 'dt_ini_operacao', 'dt_fim_operacao',\n",
    "            'ano','mes','tipo_oper', 'tipo_nav_oper','nacion_armador', 'terminal', 'município',\n",
    "            'uf', 'sguf', 'reg_geografica', 'no_capitania','no_imo']"
   ]
  },
  {
   "cell_type": "code",
   "execution_count": 69,
   "metadata": {},
   "outputs": [],
   "source": [
    "atracacao_filtro.columns = nome_col"
   ]
  },
  {
   "cell_type": "markdown",
   "metadata": {},
   "source": [
    "### 9. Filtro das atrações do Porto de Santos para Amostra"
   ]
  },
  {
   "cell_type": "code",
   "execution_count": 70,
   "metadata": {},
   "outputs": [],
   "source": [
    "atracacao_santos = atracacao_filtro[atracacao_filtro['porto']=='Santos']"
   ]
  },
  {
   "cell_type": "code",
   "execution_count": 71,
   "metadata": {},
   "outputs": [
    {
     "data": {
      "text/html": [
       "<div>\n",
       "<style scoped>\n",
       "    .dataframe tbody tr th:only-of-type {\n",
       "        vertical-align: middle;\n",
       "    }\n",
       "\n",
       "    .dataframe tbody tr th {\n",
       "        vertical-align: top;\n",
       "    }\n",
       "\n",
       "    .dataframe thead th {\n",
       "        text-align: right;\n",
       "    }\n",
       "</style>\n",
       "<table border=\"1\" class=\"dataframe\">\n",
       "  <thead>\n",
       "    <tr style=\"text-align: right;\">\n",
       "      <th></th>\n",
       "      <th>id_aAtracacao</th>\n",
       "      <th>CDTUP</th>\n",
       "      <th>id_berço</th>\n",
       "      <th>porto</th>\n",
       "      <th>autoridade_portuaria</th>\n",
       "      <th>dt_atracacao</th>\n",
       "      <th>dt_chegada</th>\n",
       "      <th>dt_desatracacao</th>\n",
       "      <th>dt_ini_operacao</th>\n",
       "      <th>dt_fim_operacao</th>\n",
       "      <th>...</th>\n",
       "      <th>tipo_oper</th>\n",
       "      <th>tipo_nav_oper</th>\n",
       "      <th>nacion_armador</th>\n",
       "      <th>terminal</th>\n",
       "      <th>município</th>\n",
       "      <th>uf</th>\n",
       "      <th>sguf</th>\n",
       "      <th>reg_geografica</th>\n",
       "      <th>no_capitania</th>\n",
       "      <th>no_imo</th>\n",
       "    </tr>\n",
       "  </thead>\n",
       "  <tbody>\n",
       "    <tr>\n",
       "      <td>990</td>\n",
       "      <td>1056367</td>\n",
       "      <td>BRSSZ</td>\n",
       "      <td>SSZ0811</td>\n",
       "      <td>Santos</td>\n",
       "      <td>Porto Público</td>\n",
       "      <td>19/01/2020 11:30:00</td>\n",
       "      <td>19/01/2020 10:00:00</td>\n",
       "      <td>20/01/2020 22:10:00</td>\n",
       "      <td>19/01/2020 12:35:00</td>\n",
       "      <td>20/01/2020 03:24:00</td>\n",
       "      <td>...</td>\n",
       "      <td>Movimentação da Carga</td>\n",
       "      <td>Cabotagem</td>\n",
       "      <td>1</td>\n",
       "      <td>Santos Brasil</td>\n",
       "      <td>Guarujá</td>\n",
       "      <td>São Paulo</td>\n",
       "      <td>SP</td>\n",
       "      <td>Sudeste</td>\n",
       "      <td>381E011291</td>\n",
       "      <td>9283227.0</td>\n",
       "    </tr>\n",
       "    <tr>\n",
       "      <td>992</td>\n",
       "      <td>1056188</td>\n",
       "      <td>BRSSZ</td>\n",
       "      <td>SSZ0813</td>\n",
       "      <td>Santos</td>\n",
       "      <td>Porto Público</td>\n",
       "      <td>16/01/2020 13:40:00</td>\n",
       "      <td>16/01/2020 07:00:00</td>\n",
       "      <td>17/01/2020 08:45:00</td>\n",
       "      <td>16/01/2020 15:16:00</td>\n",
       "      <td>17/01/2020 06:11:00</td>\n",
       "      <td>...</td>\n",
       "      <td>Movimentação da Carga</td>\n",
       "      <td>Cabotagem</td>\n",
       "      <td>1</td>\n",
       "      <td>Santos Brasil</td>\n",
       "      <td>Guarujá</td>\n",
       "      <td>São Paulo</td>\n",
       "      <td>SP</td>\n",
       "      <td>Sudeste</td>\n",
       "      <td>381E011291</td>\n",
       "      <td>9283227.0</td>\n",
       "    </tr>\n",
       "  </tbody>\n",
       "</table>\n",
       "<p>2 rows × 22 columns</p>\n",
       "</div>"
      ],
      "text/plain": [
       "     id_aAtracacao  CDTUP id_berço   porto autoridade_portuaria  \\\n",
       "990        1056367  BRSSZ  SSZ0811  Santos        Porto Público   \n",
       "992        1056188  BRSSZ  SSZ0813  Santos        Porto Público   \n",
       "\n",
       "            dt_atracacao           dt_chegada      dt_desatracacao  \\\n",
       "990  19/01/2020 11:30:00  19/01/2020 10:00:00  20/01/2020 22:10:00   \n",
       "992  16/01/2020 13:40:00  16/01/2020 07:00:00  17/01/2020 08:45:00   \n",
       "\n",
       "         dt_ini_operacao      dt_fim_operacao  ...              tipo_oper  \\\n",
       "990  19/01/2020 12:35:00  20/01/2020 03:24:00  ...  Movimentação da Carga   \n",
       "992  16/01/2020 15:16:00  17/01/2020 06:11:00  ...  Movimentação da Carga   \n",
       "\n",
       "    tipo_nav_oper nacion_armador       terminal  município         uf sguf  \\\n",
       "990     Cabotagem              1  Santos Brasil    Guarujá  São Paulo   SP   \n",
       "992     Cabotagem              1  Santos Brasil    Guarujá  São Paulo   SP   \n",
       "\n",
       "    reg_geografica no_capitania     no_imo  \n",
       "990        Sudeste   381E011291  9283227.0  \n",
       "992        Sudeste   381E011291  9283227.0  \n",
       "\n",
       "[2 rows x 22 columns]"
      ]
     },
     "execution_count": 71,
     "metadata": {},
     "output_type": "execute_result"
    }
   ],
   "source": [
    "atracacao_santos.head(2)"
   ]
  },
  {
   "cell_type": "markdown",
   "metadata": {},
   "source": [
    "#### 9.1 Diferença de tempo da chegada do navio  ate a atracação"
   ]
  },
  {
   "cell_type": "code",
   "execution_count": 73,
   "metadata": {},
   "outputs": [
    {
     "data": {
      "text/html": [
       "<div>\n",
       "<style scoped>\n",
       "    .dataframe tbody tr th:only-of-type {\n",
       "        vertical-align: middle;\n",
       "    }\n",
       "\n",
       "    .dataframe tbody tr th {\n",
       "        vertical-align: top;\n",
       "    }\n",
       "\n",
       "    .dataframe thead th {\n",
       "        text-align: right;\n",
       "    }\n",
       "</style>\n",
       "<table border=\"1\" class=\"dataframe\">\n",
       "  <thead>\n",
       "    <tr style=\"text-align: right;\">\n",
       "      <th></th>\n",
       "      <th>dt_chegada</th>\n",
       "      <th>dt_atracacao</th>\n",
       "    </tr>\n",
       "  </thead>\n",
       "  <tbody>\n",
       "    <tr>\n",
       "      <td>990</td>\n",
       "      <td>19/01/2020 10:00:00</td>\n",
       "      <td>19/01/2020 11:30:00</td>\n",
       "    </tr>\n",
       "    <tr>\n",
       "      <td>992</td>\n",
       "      <td>16/01/2020 07:00:00</td>\n",
       "      <td>16/01/2020 13:40:00</td>\n",
       "    </tr>\n",
       "    <tr>\n",
       "      <td>1017</td>\n",
       "      <td>24/01/2020 06:00:00</td>\n",
       "      <td>24/01/2020 07:05:00</td>\n",
       "    </tr>\n",
       "    <tr>\n",
       "      <td>1018</td>\n",
       "      <td>09/02/2020 07:00:00</td>\n",
       "      <td>09/02/2020 08:05:00</td>\n",
       "    </tr>\n",
       "    <tr>\n",
       "      <td>1023</td>\n",
       "      <td>12/01/2020 07:30:00</td>\n",
       "      <td>12/01/2020 08:30:00</td>\n",
       "    </tr>\n",
       "    <tr>\n",
       "      <td>...</td>\n",
       "      <td>...</td>\n",
       "      <td>...</td>\n",
       "    </tr>\n",
       "    <tr>\n",
       "      <td>16982</td>\n",
       "      <td>05/03/2020 07:28:00</td>\n",
       "      <td>09/03/2020 05:35:00</td>\n",
       "    </tr>\n",
       "    <tr>\n",
       "      <td>16983</td>\n",
       "      <td>05/03/2020 11:45:00</td>\n",
       "      <td>14/03/2020 21:00:00</td>\n",
       "    </tr>\n",
       "    <tr>\n",
       "      <td>16999</td>\n",
       "      <td>25/02/2020 03:00:00</td>\n",
       "      <td>01/03/2020 05:55:00</td>\n",
       "    </tr>\n",
       "    <tr>\n",
       "      <td>17000</td>\n",
       "      <td>01/03/2020 14:49:00</td>\n",
       "      <td>10/03/2020 22:45:00</td>\n",
       "    </tr>\n",
       "    <tr>\n",
       "      <td>17001</td>\n",
       "      <td>18/03/2020 18:00:00</td>\n",
       "      <td>18/03/2020 23:10:00</td>\n",
       "    </tr>\n",
       "  </tbody>\n",
       "</table>\n",
       "<p>1041 rows × 2 columns</p>\n",
       "</div>"
      ],
      "text/plain": [
       "                dt_chegada         dt_atracacao\n",
       "990    19/01/2020 10:00:00  19/01/2020 11:30:00\n",
       "992    16/01/2020 07:00:00  16/01/2020 13:40:00\n",
       "1017   24/01/2020 06:00:00  24/01/2020 07:05:00\n",
       "1018   09/02/2020 07:00:00  09/02/2020 08:05:00\n",
       "1023   12/01/2020 07:30:00  12/01/2020 08:30:00\n",
       "...                    ...                  ...\n",
       "16982  05/03/2020 07:28:00  09/03/2020 05:35:00\n",
       "16983  05/03/2020 11:45:00  14/03/2020 21:00:00\n",
       "16999  25/02/2020 03:00:00  01/03/2020 05:55:00\n",
       "17000  01/03/2020 14:49:00  10/03/2020 22:45:00\n",
       "17001  18/03/2020 18:00:00  18/03/2020 23:10:00\n",
       "\n",
       "[1041 rows x 2 columns]"
      ]
     },
     "execution_count": 73,
     "metadata": {},
     "output_type": "execute_result"
    }
   ],
   "source": [
    "atracacao_santos[['dt_chegada','dt_atracacao']]"
   ]
  },
  {
   "cell_type": "markdown",
   "metadata": {},
   "source": [
    "#### 9.2 Diferença de tempo da chegada do navio  ate Inicio da Operação"
   ]
  },
  {
   "cell_type": "markdown",
   "metadata": {},
   "source": [
    "#### 9.3 Diferença de tempo da chegada do navio  ate Desatracação"
   ]
  },
  {
   "cell_type": "markdown",
   "metadata": {},
   "source": [
    "#### 9.4 Diferença de tempo da chegada do navio  ate Fim da Operação"
   ]
  },
  {
   "cell_type": "markdown",
   "metadata": {},
   "source": [
    "#### 9.5 Diferença de tempo do inicio da Operação e Fim da Operação"
   ]
  },
  {
   "cell_type": "markdown",
   "metadata": {},
   "source": [
    "#### 9.6 Tempo Médio de Ocupação dos Berços"
   ]
  },
  {
   "cell_type": "markdown",
   "metadata": {},
   "source": [
    "#### 9.7 Tempo Médio que o Berço fica livre (Entre uma operação e outra)"
   ]
  },
  {
   "cell_type": "markdown",
   "metadata": {},
   "source": [
    "### 10. Export da Base Amostral de Santos"
   ]
  },
  {
   "cell_type": "code",
   "execution_count": null,
   "metadata": {},
   "outputs": [],
   "source": []
  }
 ],
 "metadata": {
  "kernelspec": {
   "display_name": "Python 3",
   "language": "python",
   "name": "python3"
  },
  "language_info": {
   "codemirror_mode": {
    "name": "ipython",
    "version": 3
   },
   "file_extension": ".py",
   "mimetype": "text/x-python",
   "name": "python",
   "nbconvert_exporter": "python",
   "pygments_lexer": "ipython3",
   "version": "3.7.4"
  }
 },
 "nbformat": 4,
 "nbformat_minor": 2
}
