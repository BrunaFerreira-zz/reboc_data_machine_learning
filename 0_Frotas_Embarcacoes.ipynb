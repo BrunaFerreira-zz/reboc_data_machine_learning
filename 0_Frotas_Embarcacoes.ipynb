{
 "cells": [
  {
   "cell_type": "markdown",
   "metadata": {},
   "source": [
    "## Base dados : Embarcações e Frotas\n",
    "\n",
    "- Origem dados Frotas : http://dados.gov.br/dataset/frota1/resource/963fd2c6-9eb0-4566-bd9d-972257887faa\n",
    "- Origem dados embarcação: http://dados.gov.br/dataset/frota1/resource/791d1f3e-c3b7-4d75-aa7a-5348444d3b3b <br><br>\n",
    "Acessado em 5/7/2020, atualizados em 4/6/2020"
   ]
  },
  {
   "cell_type": "code",
   "execution_count": 1,
   "metadata": {},
   "outputs": [],
   "source": [
    "import pandas as pd\n",
    "%matplotlib inline"
   ]
  },
  {
   "cell_type": "markdown",
   "metadata": {},
   "source": [
    "## 0. Embarcações Cadastradas"
   ]
  },
  {
   "cell_type": "code",
   "execution_count": 2,
   "metadata": {},
   "outputs": [],
   "source": [
    "frota_emb = pd.read_csv('data/frotaembarcacao.txt', header = 0, sep= ';')"
   ]
  },
  {
   "cell_type": "markdown",
   "metadata": {},
   "source": [
    "### 0.1 Renomeando colunas"
   ]
  },
  {
   "cell_type": "code",
   "execution_count": 3,
   "metadata": {},
   "outputs": [
    {
     "data": {
      "text/plain": [
       "Index(['IDEmbarcacao', 'Nome da Embarcação', 'Ano da Construção da Embarcação',\n",
       "       'Codigo do Tipo de Material do Casco', 'Tipo de Material do Casco',\n",
       "       'Codigo do Tipo da Embarcação', 'Tipo de Embarcação',\n",
       "       'Codigo do País Atual', 'Codigo do País de Origem', 'Boca', 'Calado',\n",
       "       'Comprimento', 'TPB'],\n",
       "      dtype='object')"
      ]
     },
     "execution_count": 3,
     "metadata": {},
     "output_type": "execute_result"
    }
   ],
   "source": [
    "frota_emb.columns"
   ]
  },
  {
   "cell_type": "code",
   "execution_count": 4,
   "metadata": {},
   "outputs": [],
   "source": [
    "colunas_frota_emb = ['id_embarcacao', 'nome_embarcacao', 'ano_construcao_embarcacao',\n",
    "       'cod_tipo_material_casco', 'tipo_material_casco','codigo_tipo_embarcacao', 'tipo_embarcacao',\n",
    "       'cod_pais_atual', 'cod_pais_origem', 'boca', 'calado','comprimento', 'tpb']"
   ]
  },
  {
   "cell_type": "code",
   "execution_count": 5,
   "metadata": {},
   "outputs": [],
   "source": [
    "frota_emb.columns = colunas_frota_emb"
   ]
  },
  {
   "cell_type": "code",
   "execution_count": 6,
   "metadata": {},
   "outputs": [
    {
     "data": {
      "text/plain": [
       "Index(['id_embarcacao', 'nome_embarcacao', 'ano_construcao_embarcacao',\n",
       "       'cod_tipo_material_casco', 'tipo_material_casco',\n",
       "       'codigo_tipo_embarcacao', 'tipo_embarcacao', 'cod_pais_atual',\n",
       "       'cod_pais_origem', 'boca', 'calado', 'comprimento', 'tpb'],\n",
       "      dtype='object')"
      ]
     },
     "execution_count": 6,
     "metadata": {},
     "output_type": "execute_result"
    }
   ],
   "source": [
    "frota_emb.columns"
   ]
  },
  {
   "cell_type": "markdown",
   "metadata": {},
   "source": [
    "### 0.2 Principais tipos de embarcações"
   ]
  },
  {
   "cell_type": "code",
   "execution_count": 7,
   "metadata": {
    "scrolled": true
   },
   "outputs": [
    {
     "data": {
      "text/plain": [
       "BALSA                                           1970\n",
       "REBOCADOR/EMPURRADOR                            1746\n",
       "LANCHA                                          1352\n",
       "BARCAÇA                                          693\n",
       "SUPRIDORES DE PLATAFORMAS MARÍTIMAS (SUPPLY)     365\n",
       "BOTE                                             251\n",
       "CHATA                                            244\n",
       "PASSAGEIRO/CARGA GERAL                           172\n",
       "FLUTUANTE                                        146\n",
       "PASSAGEIROS                                      135\n",
       "GRANELEIRO                                       101\n",
       "TRAINEIRA                                        101\n",
       "CARGA GERAL                                       89\n",
       "PETROLEIRO                                        81\n",
       "OUTRAS EMBARCAÇÕES                                73\n",
       "FERRY BOAT                                        72\n",
       "DRAGA                                             45\n",
       "PORTA CONTEINER                                   34\n",
       "CÁBREA                                            18\n",
       "SAVEIRO                                           18\n",
       "GASES LIQUEFEITOS                                 16\n",
       "CATAMARÃ                                          15\n",
       "QUÍMICO                                           12\n",
       "PESQUEIRO                                         12\n",
       "ROLL-ON/ROLL-OFF                                  10\n",
       "ESCUNA                                             9\n",
       "CANOA                                              7\n",
       "PESQUISA                                           4\n",
       "BATELÃO                                            2\n",
       "CARGA REFRIGERADA                                  2\n",
       "TANKER                                             1\n",
       "NAVIO CISTERNA                                     1\n",
       "PASSAGEIRO/ROLL-ON/ROLL-OFF                        1\n",
       "Name: tipo_embarcacao, dtype: int64"
      ]
     },
     "execution_count": 7,
     "metadata": {},
     "output_type": "execute_result"
    }
   ],
   "source": [
    "### Tipos de Embarcação\n",
    "frota_emb['tipo_embarcacao'].value_counts()"
   ]
  },
  {
   "cell_type": "markdown",
   "metadata": {},
   "source": [
    "### 0.3  Filtro tipo_embarcacao = 'REBOCADOR/EMPURRADOR'"
   ]
  },
  {
   "cell_type": "code",
   "execution_count": 8,
   "metadata": {},
   "outputs": [],
   "source": [
    "frota_emb_reb = frota_emb[frota_emb['tipo_embarcacao']=='REBOCADOR/EMPURRADOR']"
   ]
  },
  {
   "cell_type": "markdown",
   "metadata": {},
   "source": [
    "### 0.4  Idade Rebocadores"
   ]
  },
  {
   "cell_type": "code",
   "execution_count": 37,
   "metadata": {},
   "outputs": [
    {
     "data": {
      "text/plain": [
       "<matplotlib.axes._subplots.AxesSubplot at 0x2433a8dd3c8>"
      ]
     },
     "execution_count": 37,
     "metadata": {},
     "output_type": "execute_result"
    },
    {
     "data": {
      "image/png": "[encoded data removed]",
      "text/plain": [
       "<Figure size 432x288 with 1 Axes>"
      ]
     },
     "metadata": {
      "needs_background": "light"
     },
     "output_type": "display_data"
    }
   ],
   "source": [
    "frota_emb_reb['ano_construcao_embarcacao'].hist(grid = False)"
   ]
  },
  {
   "cell_type": "code",
   "execution_count": 10,
   "metadata": {},
   "outputs": [
    {
     "data": {
      "text/plain": [
       "id_embarcacao                  0\n",
       "nome_embarcacao                0\n",
       "ano_construcao_embarcacao     10\n",
       "cod_tipo_material_casco       73\n",
       "tipo_material_casco           73\n",
       "codigo_tipo_embarcacao         0\n",
       "tipo_embarcacao                0\n",
       "cod_pais_atual                 0\n",
       "cod_pais_origem                0\n",
       "boca                          41\n",
       "calado                       195\n",
       "comprimento                   22\n",
       "tpb                           49\n",
       "dtype: int64"
      ]
     },
     "execution_count": 10,
     "metadata": {},
     "output_type": "execute_result"
    }
   ],
   "source": [
    "#Campos Nulos\n",
    "frota_emb_reb.isnull().sum()"
   ]
  },
  {
   "cell_type": "markdown",
   "metadata": {},
   "source": [
    "## 1. Frota de Rebocadores"
   ]
  },
  {
   "cell_type": "code",
   "execution_count": 11,
   "metadata": {},
   "outputs": [],
   "source": [
    "frota = pd.read_csv('data/frota.txt', header = 0, sep= ';')"
   ]
  },
  {
   "cell_type": "code",
   "execution_count": 12,
   "metadata": {},
   "outputs": [
    {
     "data": {
      "text/html": [
       "<div>\n",
       "<style scoped>\n",
       "    .dataframe tbody tr th:only-of-type {\n",
       "        vertical-align: middle;\n",
       "    }\n",
       "\n",
       "    .dataframe tbody tr th {\n",
       "        vertical-align: top;\n",
       "    }\n",
       "\n",
       "    .dataframe thead th {\n",
       "        text-align: right;\n",
       "    }\n",
       "</style>\n",
       "<table border=\"1\" class=\"dataframe\">\n",
       "  <thead>\n",
       "    <tr style=\"text-align: right;\">\n",
       "      <th></th>\n",
       "      <th>Ano da Outorga</th>\n",
       "      <th>DataFinal</th>\n",
       "      <th>MesFinal</th>\n",
       "      <th>AnoFinal</th>\n",
       "      <th>Tipo de Navegação Outorgada</th>\n",
       "      <th>ID_TipoNavegacaoOutorgada</th>\n",
       "      <th>IDEmbarcacao</th>\n",
       "      <th>Outorga Ok?</th>\n",
       "      <th>Propriedade</th>\n",
       "      <th>STEmbarcacao</th>\n",
       "      <th>Descrição do Tipo de Transporte</th>\n",
       "      <th>Região Hidrográfica</th>\n",
       "      <th>Razão Social</th>\n",
       "      <th>IDTipoNavegacaoEmbarcacao</th>\n",
       "      <th>Tipo de Navegação da Embarcação</th>\n",
       "    </tr>\n",
       "  </thead>\n",
       "  <tbody>\n",
       "    <tr>\n",
       "      <td>0</td>\n",
       "      <td>2015</td>\n",
       "      <td>30/09/2015</td>\n",
       "      <td>set</td>\n",
       "      <td>2015</td>\n",
       "      <td>Interior</td>\n",
       "      <td>1</td>\n",
       "      <td>48103</td>\n",
       "      <td>1</td>\n",
       "      <td>Própria</td>\n",
       "      <td>-1</td>\n",
       "      <td>Travessia de Passageiros</td>\n",
       "      <td>Região Hidrográfica Atlântico Sul</td>\n",
       "      <td>ARTHURISMO TRANSPORTE MARÍTIMO LTDA-ME</td>\n",
       "      <td>2</td>\n",
       "      <td>Apoio Portuário</td>\n",
       "    </tr>\n",
       "    <tr>\n",
       "      <td>1</td>\n",
       "      <td>2015</td>\n",
       "      <td>30/11/2015</td>\n",
       "      <td>nov</td>\n",
       "      <td>2015</td>\n",
       "      <td>Interior</td>\n",
       "      <td>1</td>\n",
       "      <td>48103</td>\n",
       "      <td>1</td>\n",
       "      <td>Própria</td>\n",
       "      <td>-1</td>\n",
       "      <td>Travessia de Passageiros</td>\n",
       "      <td>Região Hidrográfica Atlântico Sul</td>\n",
       "      <td>ARTHURISMO TRANSPORTE MARÍTIMO LTDA-ME</td>\n",
       "      <td>2</td>\n",
       "      <td>Apoio Portuário</td>\n",
       "    </tr>\n",
       "  </tbody>\n",
       "</table>\n",
       "</div>"
      ],
      "text/plain": [
       "   Ano da Outorga   DataFinal MesFinal  AnoFinal Tipo de Navegação Outorgada  \\\n",
       "0            2015  30/09/2015      set      2015                    Interior   \n",
       "1            2015  30/11/2015      nov      2015                    Interior   \n",
       "\n",
       "   ID_TipoNavegacaoOutorgada  IDEmbarcacao  Outorga Ok? Propriedade  \\\n",
       "0                          1         48103            1     Própria   \n",
       "1                          1         48103            1     Própria   \n",
       "\n",
       "   STEmbarcacao Descrição do Tipo de Transporte  \\\n",
       "0            -1        Travessia de Passageiros   \n",
       "1            -1        Travessia de Passageiros   \n",
       "\n",
       "                 Região Hidrográfica                            Razão Social  \\\n",
       "0  Região Hidrográfica Atlântico Sul  ARTHURISMO TRANSPORTE MARÍTIMO LTDA-ME   \n",
       "1  Região Hidrográfica Atlântico Sul  ARTHURISMO TRANSPORTE MARÍTIMO LTDA-ME   \n",
       "\n",
       "   IDTipoNavegacaoEmbarcacao Tipo de Navegação da Embarcação  \n",
       "0                          2                 Apoio Portuário  \n",
       "1                          2                 Apoio Portuário  "
      ]
     },
     "execution_count": 12,
     "metadata": {},
     "output_type": "execute_result"
    }
   ],
   "source": [
    "frota.head(2)"
   ]
  },
  {
   "cell_type": "markdown",
   "metadata": {},
   "source": [
    "### 1.1 Renomeando colunas"
   ]
  },
  {
   "cell_type": "code",
   "execution_count": 13,
   "metadata": {},
   "outputs": [
    {
     "data": {
      "text/plain": [
       "Index(['Ano da Outorga', 'DataFinal', 'MesFinal', 'AnoFinal',\n",
       "       'Tipo de Navegação Outorgada', 'ID_TipoNavegacaoOutorgada',\n",
       "       'IDEmbarcacao', 'Outorga Ok?', 'Propriedade', 'STEmbarcacao',\n",
       "       'Descrição do Tipo de Transporte', 'Região Hidrográfica',\n",
       "       'Razão Social', 'IDTipoNavegacaoEmbarcacao',\n",
       "       'Tipo de Navegação da Embarcação'],\n",
       "      dtype='object')"
      ]
     },
     "execution_count": 13,
     "metadata": {},
     "output_type": "execute_result"
    }
   ],
   "source": [
    "frota.columns"
   ]
  },
  {
   "cell_type": "code",
   "execution_count": 14,
   "metadata": {},
   "outputs": [],
   "source": [
    "frota_colunas = ['ano_outorga', 'data_final', 'mes_final', 'ano_final',\n",
    "       'tipo_nav_outorgadada', 'id_tipo_nav_outorgadada','id_embarcacao', 'status_outorga', 'propriedade', 'st_embarcacao',\n",
    "       'desc_tipo_transp', 'reg_hidrografica','razao_social', 'id_tipo_nav_embarcacao','tipo_nav_embarcaca']"
   ]
  },
  {
   "cell_type": "code",
   "execution_count": 15,
   "metadata": {},
   "outputs": [],
   "source": [
    "frota.columns = frota_colunas"
   ]
  },
  {
   "cell_type": "code",
   "execution_count": 16,
   "metadata": {},
   "outputs": [
    {
     "data": {
      "text/plain": [
       "Index(['ano_outorga', 'data_final', 'mes_final', 'ano_final',\n",
       "       'tipo_nav_outorgadada', 'id_tipo_nav_outorgadada', 'id_embarcacao',\n",
       "       'status_outorga', 'propriedade', 'st_embarcacao', 'desc_tipo_transp',\n",
       "       'reg_hidrografica', 'razao_social', 'id_tipo_nav_embarcacao',\n",
       "       'tipo_nav_embarcaca'],\n",
       "      dtype='object')"
      ]
     },
     "execution_count": 16,
     "metadata": {},
     "output_type": "execute_result"
    }
   ],
   "source": [
    "frota.columns"
   ]
  },
  {
   "cell_type": "markdown",
   "metadata": {},
   "source": [
    "### 1.2 Buscando empresa dona do rebocador (data mais recente)"
   ]
  },
  {
   "cell_type": "code",
   "execution_count": 17,
   "metadata": {},
   "outputs": [],
   "source": [
    "frota_reb = pd.merge(frota_emb_reb, frota, on='id_embarcacao')"
   ]
  },
  {
   "cell_type": "code",
   "execution_count": 18,
   "metadata": {},
   "outputs": [],
   "source": [
    "## Buscando só rebocadores que pertencem a empresa\n",
    "frota_reb = frota_reb[frota_reb['propriedade']=='Própria']"
   ]
  },
  {
   "cell_type": "code",
   "execution_count": 19,
   "metadata": {},
   "outputs": [
    {
     "data": {
      "text/html": [
       "<div>\n",
       "<style scoped>\n",
       "    .dataframe tbody tr th:only-of-type {\n",
       "        vertical-align: middle;\n",
       "    }\n",
       "\n",
       "    .dataframe tbody tr th {\n",
       "        vertical-align: top;\n",
       "    }\n",
       "\n",
       "    .dataframe thead th {\n",
       "        text-align: right;\n",
       "    }\n",
       "</style>\n",
       "<table border=\"1\" class=\"dataframe\">\n",
       "  <thead>\n",
       "    <tr style=\"text-align: right;\">\n",
       "      <th></th>\n",
       "      <th>id_embarcacao</th>\n",
       "      <th>nome_embarcacao</th>\n",
       "      <th>ano_construcao_embarcacao</th>\n",
       "      <th>cod_tipo_material_casco</th>\n",
       "      <th>tipo_material_casco</th>\n",
       "      <th>codigo_tipo_embarcacao</th>\n",
       "      <th>tipo_embarcacao</th>\n",
       "      <th>cod_pais_atual</th>\n",
       "      <th>cod_pais_origem</th>\n",
       "      <th>boca</th>\n",
       "      <th>...</th>\n",
       "      <th>tipo_nav_outorgadada</th>\n",
       "      <th>id_tipo_nav_outorgadada</th>\n",
       "      <th>status_outorga</th>\n",
       "      <th>propriedade</th>\n",
       "      <th>st_embarcacao</th>\n",
       "      <th>desc_tipo_transp</th>\n",
       "      <th>reg_hidrografica</th>\n",
       "      <th>razao_social</th>\n",
       "      <th>id_tipo_nav_embarcacao</th>\n",
       "      <th>tipo_nav_embarcaca</th>\n",
       "    </tr>\n",
       "  </thead>\n",
       "  <tbody>\n",
       "    <tr>\n",
       "      <td>0</td>\n",
       "      <td>8649</td>\n",
       "      <td>SN ARARUAMA</td>\n",
       "      <td>1984.0</td>\n",
       "      <td>1.0</td>\n",
       "      <td>Aço</td>\n",
       "      <td>51</td>\n",
       "      <td>REBOCADOR/EMPURRADOR</td>\n",
       "      <td>BR</td>\n",
       "      <td>BR</td>\n",
       "      <td>8</td>\n",
       "      <td>...</td>\n",
       "      <td>Apoio Marítimo</td>\n",
       "      <td>4</td>\n",
       "      <td>1</td>\n",
       "      <td>Própria</td>\n",
       "      <td>-1</td>\n",
       "      <td>NaN</td>\n",
       "      <td>NaN</td>\n",
       "      <td>SULNORTE SERVIÇOS MARÍTIMOS LTDA.</td>\n",
       "      <td>2</td>\n",
       "      <td>Apoio Portuário</td>\n",
       "    </tr>\n",
       "    <tr>\n",
       "      <td>1</td>\n",
       "      <td>8649</td>\n",
       "      <td>SN ARARUAMA</td>\n",
       "      <td>1984.0</td>\n",
       "      <td>1.0</td>\n",
       "      <td>Aço</td>\n",
       "      <td>51</td>\n",
       "      <td>REBOCADOR/EMPURRADOR</td>\n",
       "      <td>BR</td>\n",
       "      <td>BR</td>\n",
       "      <td>8</td>\n",
       "      <td>...</td>\n",
       "      <td>Apoio Marítimo</td>\n",
       "      <td>4</td>\n",
       "      <td>1</td>\n",
       "      <td>Própria</td>\n",
       "      <td>-1</td>\n",
       "      <td>NaN</td>\n",
       "      <td>NaN</td>\n",
       "      <td>SULNORTE SERVIÇOS MARÍTIMOS LTDA.</td>\n",
       "      <td>4</td>\n",
       "      <td>Apoio Marítimo</td>\n",
       "    </tr>\n",
       "  </tbody>\n",
       "</table>\n",
       "<p>2 rows × 27 columns</p>\n",
       "</div>"
      ],
      "text/plain": [
       "   id_embarcacao nome_embarcacao  ano_construcao_embarcacao  \\\n",
       "0           8649     SN ARARUAMA                     1984.0   \n",
       "1           8649     SN ARARUAMA                     1984.0   \n",
       "\n",
       "   cod_tipo_material_casco tipo_material_casco  codigo_tipo_embarcacao  \\\n",
       "0                      1.0                 Aço                      51   \n",
       "1                      1.0                 Aço                      51   \n",
       "\n",
       "        tipo_embarcacao cod_pais_atual cod_pais_origem boca  ...  \\\n",
       "0  REBOCADOR/EMPURRADOR             BR              BR    8  ...   \n",
       "1  REBOCADOR/EMPURRADOR             BR              BR    8  ...   \n",
       "\n",
       "  tipo_nav_outorgadada id_tipo_nav_outorgadada status_outorga  propriedade  \\\n",
       "0       Apoio Marítimo                       4              1      Própria   \n",
       "1       Apoio Marítimo                       4              1      Própria   \n",
       "\n",
       "  st_embarcacao desc_tipo_transp  reg_hidrografica  \\\n",
       "0            -1              NaN               NaN   \n",
       "1            -1              NaN               NaN   \n",
       "\n",
       "                        razao_social  id_tipo_nav_embarcacao  \\\n",
       "0  SULNORTE SERVIÇOS MARÍTIMOS LTDA.                       2   \n",
       "1  SULNORTE SERVIÇOS MARÍTIMOS LTDA.                       4   \n",
       "\n",
       "   tipo_nav_embarcaca  \n",
       "0     Apoio Portuário  \n",
       "1      Apoio Marítimo  \n",
       "\n",
       "[2 rows x 27 columns]"
      ]
     },
     "execution_count": 19,
     "metadata": {},
     "output_type": "execute_result"
    }
   ],
   "source": [
    "frota_reb.head(2)"
   ]
  },
  {
   "cell_type": "code",
   "execution_count": 20,
   "metadata": {},
   "outputs": [
    {
     "data": {
      "text/plain": [
       "1423"
      ]
     },
     "execution_count": 20,
     "metadata": {},
     "output_type": "execute_result"
    }
   ],
   "source": [
    "frota_reb['id_embarcacao'].nunique()"
   ]
  },
  {
   "cell_type": "code",
   "execution_count": 21,
   "metadata": {
    "scrolled": true
   },
   "outputs": [
    {
     "data": {
      "text/plain": [
       "Index(['id_embarcacao', 'nome_embarcacao', 'ano_construcao_embarcacao',\n",
       "       'cod_tipo_material_casco', 'tipo_material_casco',\n",
       "       'codigo_tipo_embarcacao', 'tipo_embarcacao', 'cod_pais_atual',\n",
       "       'cod_pais_origem', 'boca', 'calado', 'comprimento', 'tpb',\n",
       "       'ano_outorga', 'data_final', 'mes_final', 'ano_final',\n",
       "       'tipo_nav_outorgadada', 'id_tipo_nav_outorgadada', 'status_outorga',\n",
       "       'propriedade', 'st_embarcacao', 'desc_tipo_transp', 'reg_hidrografica',\n",
       "       'razao_social', 'id_tipo_nav_embarcacao', 'tipo_nav_embarcaca'],\n",
       "      dtype='object')"
      ]
     },
     "execution_count": 21,
     "metadata": {},
     "output_type": "execute_result"
    }
   ],
   "source": [
    "frota_reb.columns"
   ]
  },
  {
   "cell_type": "markdown",
   "metadata": {},
   "source": [
    "### 1.3 Empresa x rebocadores"
   ]
  },
  {
   "cell_type": "code",
   "execution_count": 22,
   "metadata": {},
   "outputs": [],
   "source": [
    "#Data mais recente\n",
    "frota_recente = frota_reb[['id_embarcacao','data_final']].groupby('id_embarcacao').max()"
   ]
  },
  {
   "cell_type": "code",
   "execution_count": 23,
   "metadata": {},
   "outputs": [],
   "source": [
    "col_info = ['id_embarcacao','data_final', 'nome_embarcacao', 'ano_construcao_embarcacao','tipo_embarcacao','cod_pais_origem',\n",
    "            'razao_social']"
   ]
  },
  {
   "cell_type": "code",
   "execution_count": 24,
   "metadata": {},
   "outputs": [],
   "source": [
    "#Removendo duplicações\n",
    "frota_reb_filtro = frota_reb[col_info].drop_duplicates()\n"
   ]
  },
  {
   "cell_type": "code",
   "execution_count": 25,
   "metadata": {},
   "outputs": [],
   "source": [
    "frota_reb_info = pd.merge(frota_recente, frota_reb_filtro, on=['id_embarcacao','data_final'])"
   ]
  },
  {
   "cell_type": "code",
   "execution_count": 26,
   "metadata": {},
   "outputs": [
    {
     "data": {
      "text/plain": [
       "(1423, 7)"
      ]
     },
     "execution_count": 26,
     "metadata": {},
     "output_type": "execute_result"
    }
   ],
   "source": [
    "frota_reb_info.shape"
   ]
  },
  {
   "cell_type": "code",
   "execution_count": 27,
   "metadata": {},
   "outputs": [],
   "source": [
    "empresas = frota_reb_info['razao_social'].value_counts()\n",
    "empresas = empresas.reset_index()"
   ]
  },
  {
   "cell_type": "code",
   "execution_count": 28,
   "metadata": {},
   "outputs": [],
   "source": [
    "empresas.to_csv('resultados/empresas_rebocadores.csv',index=False)"
   ]
  },
  {
   "cell_type": "markdown",
   "metadata": {},
   "source": [
    "### Validação com as informações de Frota da Wilson Sons e Camorim"
   ]
  },
  {
   "cell_type": "code",
   "execution_count": 29,
   "metadata": {},
   "outputs": [],
   "source": [
    "df  = pd.read_csv('data/empresas_rebocadores_detalhes.csv')"
   ]
  },
  {
   "cell_type": "code",
   "execution_count": 30,
   "metadata": {},
   "outputs": [],
   "source": [
    "df.columns = ['nome_embarcacao','bollard_pull','bhp','ano','classe','empresa','eixos']"
   ]
  },
  {
   "cell_type": "code",
   "execution_count": 31,
   "metadata": {},
   "outputs": [],
   "source": [
    "df['nome_embarcacao'] = df['nome_embarcacao'].str.strip()\n",
    "df['nome_embarcacao'] = df['nome_embarcacao'].str.lower()"
   ]
  },
  {
   "cell_type": "code",
   "execution_count": 32,
   "metadata": {},
   "outputs": [],
   "source": [
    "frota_reb_info['nome_embarcacao'] = frota_reb_info['nome_embarcacao'].str.strip()\n",
    "frota_reb_info['nome_embarcacao'] = frota_reb_info['nome_embarcacao'].str.lower()"
   ]
  },
  {
   "cell_type": "code",
   "execution_count": 33,
   "metadata": {},
   "outputs": [],
   "source": [
    "valores = pd.merge(df, frota_reb_info, on='nome_embarcacao')"
   ]
  },
  {
   "cell_type": "code",
   "execution_count": 34,
   "metadata": {},
   "outputs": [
    {
     "data": {
      "text/plain": [
       "(123, 7)"
      ]
     },
     "execution_count": 34,
     "metadata": {},
     "output_type": "execute_result"
    }
   ],
   "source": [
    "df.shape"
   ]
  },
  {
   "cell_type": "code",
   "execution_count": 35,
   "metadata": {},
   "outputs": [
    {
     "data": {
      "text/plain": [
       "SAVEIROS, CAMUYRANO - SERVIÇOS MARÍTIMOS S/A    60\n",
       "NAVEMAR TRANSPORTES E COMÉRCIO MARÍTIMO LTDA     2\n",
       "CONSTRAN S/A - CONSTRUÇÕES E COMÉRCIO            1\n",
       "SAAM TOWAGE BRASIL S.A.                          1\n",
       "PETRÓLEO BRASILEIRO S.A - PETROBRAS              1\n",
       "Name: razao_social, dtype: int64"
      ]
     },
     "execution_count": 35,
     "metadata": {},
     "output_type": "execute_result"
    }
   ],
   "source": [
    "valores[valores['empresa']=='Wilson Sons']['razao_social'].value_counts()"
   ]
  },
  {
   "cell_type": "code",
   "execution_count": 36,
   "metadata": {},
   "outputs": [
    {
     "data": {
      "text/plain": [
       "CAMORIM SERVIÇOS MARÍTIMOS LTDA                 23\n",
       "STARNAV SERVIÇOS MARÍTIMOS LTDA.                 8\n",
       "DIALCAR ESTALEIRO E SERVIÇOS MARÍTIMOS LTDA.     1\n",
       "CAMORIM OFFSHORE SERVIÇOS MARÍTIMOS LTDA.        1\n",
       "MAXXIMUS SERVIÇOS MARÍTIMOS LTDA                 1\n",
       "Name: razao_social, dtype: int64"
      ]
     },
     "execution_count": 36,
     "metadata": {},
     "output_type": "execute_result"
    }
   ],
   "source": [
    "valores[valores['empresa']=='Camorim']['razao_social'].value_counts()"
   ]
  },
  {
   "cell_type": "markdown",
   "metadata": {},
   "source": [
    "### Conclusão:\n",
    "* Rebocadores que estão disponiveis como Frota nos sites das empresas , ja não são mais propriedade da empresa\n",
    "* Numeros de rebocadores divulgados pelas empresas divergem dos números disponibilizados pela ANAQ"
   ]
  }
 ],
 "metadata": {
  "kernelspec": {
   "display_name": "Python 3",
   "language": "python",
   "name": "python3"
  },
  "language_info": {
   "codemirror_mode": {
    "name": "ipython",
    "version": 3
   },
   "file_extension": ".py",
   "mimetype": "text/x-python",
   "name": "python",
   "nbconvert_exporter": "python",
   "pygments_lexer": "ipython3",
   "version": "3.7.4"
  }
 },
 "nbformat": 4,
 "nbformat_minor": 2
}
